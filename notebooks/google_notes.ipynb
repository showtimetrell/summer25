{
 "cells": [
  {
   "cell_type": "markdown",
   "id": "93523adb",
   "metadata": {},
   "source": [
    "Google Data Analytics Certificate - Course 1 Week 1\n",
    "\n",
    "-Data analysts **ask the right questions** before opening tools. \n",
    " \n",
    "-6 Processes Data Analyst's use: Ask > Prepare > Process > Analyze > Share > Act\n",
    "- Computer + Your Brain + Your Skills + Your Traits = Job success\n",
    "- Key takeaway: spreadsheets are still valid but **SQL scales**.\n"
   ]
  },
  {
   "cell_type": "markdown",
   "id": "17d7f745",
   "metadata": {},
   "source": []
  }
 ],
 "metadata": {
  "language_info": {
   "name": "python"
  }
 },
 "nbformat": 4,
 "nbformat_minor": 5
}
